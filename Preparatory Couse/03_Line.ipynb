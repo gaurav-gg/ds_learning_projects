{
 "cells": [
  {
   "cell_type": "markdown",
   "metadata": {},
   "source": [
    "## Visualisation in Python - Matplotlib"
   ]
  },
  {
   "cell_type": "markdown",
   "metadata": {},
   "source": [
    "### Line Chart: Trend of sales over the 12 months"
   ]
  },
  {
   "cell_type": "markdown",
   "metadata": {},
   "source": [
    "-  Can be used to present the trend with time variable on the x-axis\n",
    "-  In some cases, can be used as an alternative to scatterplot to understand the relationship between 2 variables"
   ]
  },
  {
   "cell_type": "code",
   "execution_count": null,
   "metadata": {},
   "outputs": [],
   "source": [
    "# importing the required libraries\n",
    "import numpy as np\n",
    "import matplotlib.pyplot as plt\n",
    "\n",
    "# Sales data across months\n",
    "months = np.array(['January', 'February', 'March', 'April', 'May', 'June', 'July', 'August', 'September', 'October', 'November', 'December'])\n",
    "sales = np.array([241268.56, 184837.36, 263100.77, 242771.86, 288401.05, 401814.06, 258705.68, 456619.94, 481157.24, 422766.63, 555279.03, 503143.69])"
   ]
  },
  {
   "cell_type": "code",
   "execution_count": 2,
   "metadata": {},
   "outputs": [
    {
     "name": "stdout",
     "output_type": "stream",
     "text": [
      "        ID Department     Office  Rating Training\n",
      "0    U2F26    Finance  New Delhi     3.4      Yes\n",
      "1    U2M61  Marketing  New Delhi     3.9       No\n",
      "2    U1S15      Sales  New Delhi     2.8      Yes\n",
      "3    U1H87         HR     Mumbai     2.1      Yes\n",
      "4    U1S51      Sales  New Delhi     4.6       No\n",
      "..     ...        ...        ...     ...      ...\n",
      "528  U3S44      Sales  New Delhi     4.8       No\n",
      "529  U2M11  Marketing  Bangalore     2.5      Yes\n",
      "530  U3F53    Finance  Bangalore     3.2      Yes\n",
      "531  U3S46      Sales  Bangalore     2.9      Yes\n",
      "532  U3S28      Sales  New Delhi     2.9      Yes\n",
      "\n",
      "[533 rows x 5 columns]\n"
     ]
    }
   ],
   "source": [
    "# plotting a line chart\n",
    "\n",
    "\n",
    "# adding title to the chart\n",
    "\n",
    "\n",
    "# labeling the axes\n",
    "\n",
    "\n",
    "# rotating the tick values of x-axis\n",
    "\n",
    "\n",
    "# displating the created plot\n",
    "import numpy as np\n",
    "import pandas as pd\n",
    "\n",
    "# The file is stored at the following path:\n",
    "# 'https://media-doselect.s3.amazonaws.com/generic/NMgEjwkAEGGQZBoNYGr9Ld7w0/rating.csv'\n",
    "df = pd.read_csv('https://media-doselect.s3.amazonaws.com/generic/NMgEjwkAEGGQZBoNYGr9Ld7w0/rating.csv')\n",
    "\n",
    "df[\"Training\"] = df.Rating.apply(lambda x: 'No' if x>3.5 else 'Yes' )\n",
    "\n",
    "print(df)"
   ]
  },
  {
   "cell_type": "code",
   "execution_count": null,
   "metadata": {},
   "outputs": [],
   "source": []
  }
 ],
 "metadata": {
  "kernelspec": {
   "display_name": "Python 3",
   "language": "python",
   "name": "python3"
  },
  "language_info": {
   "codemirror_mode": {
    "name": "ipython",
    "version": 3
   },
   "file_extension": ".py",
   "mimetype": "text/x-python",
   "name": "python",
   "nbconvert_exporter": "python",
   "pygments_lexer": "ipython3",
   "version": "3.7.6"
  }
 },
 "nbformat": 4,
 "nbformat_minor": 2
}
