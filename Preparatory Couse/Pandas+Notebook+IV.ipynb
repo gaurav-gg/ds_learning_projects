{
 "cells": [
  {
   "cell_type": "markdown",
   "metadata": {},
   "source": [
    "## Python Libraries - Pandas - Merge and Append"
   ]
  },
  {
   "cell_type": "markdown",
   "metadata": {},
   "source": [
    "In this section, you will merge and concatenate multiple dataframes. Merging is one of the most common operations you will do, since data often comes in various files. "
   ]
  },
  {
   "cell_type": "markdown",
   "metadata": {},
   "source": [
    "### Merging"
   ]
  },
  {
   "cell_type": "markdown",
   "metadata": {},
   "source": [
    "For merging, we have sales data across multiple sheets in an Excel file. We will now work with all these sheets and learn to:\n",
    "* Merge multiple dataframes using common columns/keys using ```pd.merge()```\n",
    "\n",
    "Let's first read all the data files."
   ]
  },
  {
   "cell_type": "code",
   "execution_count": 1,
   "metadata": {},
   "outputs": [],
   "source": [
    "# import the required libraries\n"
   ]
  },
  {
   "cell_type": "code",
   "execution_count": 19,
   "metadata": {},
   "outputs": [],
   "source": [
    "# read the sheets from file 'sales_returns.xlsx' into 2 different dataframes - orders and returns\n",
    "orders = \n",
    "returns = "
   ]
  },
  {
   "cell_type": "code",
   "execution_count": null,
   "metadata": {},
   "outputs": [],
   "source": [
    "# Check the shape of the dataframe 'orders'\n"
   ]
  },
  {
   "cell_type": "code",
   "execution_count": null,
   "metadata": {},
   "outputs": [],
   "source": [
    "# Check the shape of the dataframe 'returns'\n"
   ]
  },
  {
   "cell_type": "code",
   "execution_count": null,
   "metadata": {},
   "outputs": [],
   "source": [
    "# check the dataframe 'orders' and 'returns'\n",
    "\n"
   ]
  },
  {
   "cell_type": "code",
   "execution_count": null,
   "metadata": {},
   "outputs": [],
   "source": [
    "# Create a dataframe 'return_orders' by merging the two dataframes on Order_ID\n",
    "\n",
    "\n",
    "# Check the created dataframe\n"
   ]
  },
  {
   "cell_type": "code",
   "execution_count": null,
   "metadata": {},
   "outputs": [],
   "source": [
    "# Check the shape of the new dataframe\n"
   ]
  },
  {
   "cell_type": "code",
   "execution_count": null,
   "metadata": {},
   "outputs": [],
   "source": [
    "# try to use the 'left' method to join two dataframes\n",
    "\n",
    "\n",
    "# Check the created dataframe\n"
   ]
  },
  {
   "cell_type": "code",
   "execution_count": null,
   "metadata": {},
   "outputs": [],
   "source": [
    "# Check the orders where orders were returned\n"
   ]
  },
  {
   "cell_type": "code",
   "execution_count": null,
   "metadata": {},
   "outputs": [],
   "source": [
    "# Print the dataframe summary using the info() command\n"
   ]
  },
  {
   "cell_type": "code",
   "execution_count": null,
   "metadata": {},
   "outputs": [],
   "source": [
    "# Change the data type of the column 'Returned' \n",
    "\n",
    "\n",
    "# Check the dataframe after modification\n"
   ]
  },
  {
   "cell_type": "code",
   "execution_count": null,
   "metadata": {},
   "outputs": [],
   "source": [
    "# Replace the 'nan' value with 'No' in the column 'Returned'\n",
    "\n",
    "\n",
    "# Check the dataframe after modification\n"
   ]
  },
  {
   "cell_type": "markdown",
   "metadata": {},
   "source": [
    " "
   ]
  },
  {
   "cell_type": "markdown",
   "metadata": {},
   "source": [
    "### Append / Concatenate"
   ]
  },
  {
   "cell_type": "markdown",
   "metadata": {},
   "source": [
    "Concatenation is much more straightforward than merging. It is used when you have dataframes having the same columns and want to append them (pile one on top of the other), or having the same rows and want to append them side-by-side.\n"
   ]
  },
  {
   "cell_type": "code",
   "execution_count": null,
   "metadata": {},
   "outputs": [],
   "source": [
    "# Import the required libraries\n"
   ]
  },
  {
   "cell_type": "markdown",
   "metadata": {},
   "source": [
    "**Appending rows in a dataframe**"
   ]
  },
  {
   "cell_type": "code",
   "execution_count": null,
   "metadata": {},
   "outputs": [],
   "source": [
    "# Dataframes having the same columns\n",
    "\n",
    "df1 = pd.DataFrame({'Name': ['Aman', 'Joy', 'Rashmi', 'Saif'],\n",
    "                    'Age' : ['34', '31', '22', '33'], \n",
    "                    'Gender': ['M', 'M', 'F', 'M']}\n",
    "                  )\n",
    "\n",
    "df2 = pd.DataFrame({'Name': ['Akhil', 'Asha', 'Preeti'],\n",
    "                    'Age' : ['31', '22', '23'], \n",
    "                    'Gender': ['M', 'F', 'F']}\n",
    "                  )"
   ]
  },
  {
   "cell_type": "code",
   "execution_count": null,
   "metadata": {},
   "outputs": [],
   "source": [
    "# Append the rows of df2 in df1\n"
   ]
  },
  {
   "cell_type": "markdown",
   "metadata": {},
   "source": [
    "**Appending columns in a dataframe**"
   ]
  },
  {
   "cell_type": "code",
   "execution_count": null,
   "metadata": {},
   "outputs": [],
   "source": [
    "# Another dataframe with same number of rows as df1\n",
    "df3 = pd.DataFrame({'School': ['RK Public', 'JSP', 'Carmel Convent', 'St. Paul'],\n",
    "                    'Graduation Marks': ['84', '89', '76', '91']}\n",
    "                  )"
   ]
  },
  {
   "cell_type": "code",
   "execution_count": null,
   "metadata": {},
   "outputs": [],
   "source": [
    "# Concatenating the dataframes: df1 and df3\n"
   ]
  },
  {
   "cell_type": "code",
   "execution_count": 1,
   "metadata": {},
   "outputs": [
    {
     "name": "stdout",
     "output_type": "stream",
     "text": [
      "                           name                     address              city  \\\n",
      "0     arnie morton's of chicago   \"435 s. la cienega blvd.\"     \"los angeles\"   \n",
      "1                    art's deli       \"12224 ventura blvd.\"     \"studio city\"   \n",
      "2                 bel-air hotel      \"701 stone canyon rd.\"         \"bel air\"   \n",
      "3                    cafe bizou       \"14016 ventura blvd.\"    \"sherman oaks\"   \n",
      "4                     campanile       \"624 s. la brea ave.\"     \"los angeles\"   \n",
      "5               chinois on main             \"2709 main st.\"    \"santa monica\"   \n",
      "6                        citrus         \"6703 melrose ave.\"     \"los angeles\"   \n",
      "7           fenix at the argyle         \"8358 sunset blvd.\"    \"w. hollywood\"   \n",
      "8                       granita       \"23725 w. malibu rd.\"          \"malibu\"   \n",
      "9                    grill  the           \"9560 dayton way\"   \"beverly hills\"   \n",
      "10                        katsu       \"1972 hillhurst ave.\"       \"los feliz\"   \n",
      "11                  l'orangerie   \"903 n. la cienega blvd.\"    \"w. hollywood\"   \n",
      "12  le chardonnay (los angeles)         \"8284 melrose ave.\"     \"los angeles\"   \n",
      "13               locanda veneta         \"8638 w. third st.\"     \"los angeles\"   \n",
      "14                    matsuhisa   \"129 n. la cienega blvd.\"   \"beverly hills\"   \n",
      "15      palm  the (los angeles)   \"9001 santa monica blvd.\"    \"w. hollywood\"   \n",
      "16                       patina         \"5955 melrose ave.\"     \"los angeles\"   \n",
      "17        philippe the original       \"1001 n. alameda st.\"       \"chinatown\"   \n",
      "18                 pinot bistro       \"12969 ventura blvd.\"     \"studio city\"   \n",
      "19            rex il ristorante          \"617 s. olive st.\"     \"los angeles\"   \n",
      "\n",
      "                      cuisine unique_id                     name_2  \\\n",
      "0               \"steakhouses\"       '0'  arnie morton's of chicago   \n",
      "1                     \"delis\"       '1'         art's delicatessen   \n",
      "2               \"californian\"       '2'              hotel bel-air   \n",
      "3             \"french bistro\"       '3'                 cafe bizou   \n",
      "4               \"californian\"       '4'                  campanile   \n",
      "5          \"pacific new wave\"       '5'            chinois on main   \n",
      "6               \"californian\"       '6'                     citrus   \n",
      "7              \"french (new)\"       '7'                      fenix   \n",
      "8               \"californian\"       '8'                    granita   \n",
      "9    \"american (traditional)\"       '9'         grill on the alley   \n",
      "10                 \"japanese\"      '10'           restaurant katsu   \n",
      "11         \"french (classic)\"      '11'                l'orangerie   \n",
      "12            \"french bistro\"      '12'              le chardonnay   \n",
      "13                  \"italian\"      '13'             locanda veneta   \n",
      "14                  \"seafood\"      '14'                  matsuhisa   \n",
      "15              \"steakhouses\"      '15'                   the palm   \n",
      "16              \"californian\"      '16'                     patina   \n",
      "17               \"cafeterias\"      '17'    philippe's the original   \n",
      "18            \"french bistro\"      '18'               pinot bistro   \n",
      "19     \"nuova cucina italian\"      '19'          rex il ristorante   \n",
      "\n",
      "                     address_2            city_2       cuisine_2  \n",
      "0     \"435 s. la cienega blv.\"     \"los angeles\"      \"american\"  \n",
      "1        \"12224 ventura blvd.\"     \"studio city\"      \"american\"  \n",
      "2       \"701 stone canyon rd.\"         \"bel air\"   \"californian\"  \n",
      "3        \"14016 ventura blvd.\"    \"sherman oaks\"        \"french\"  \n",
      "4        \"624 s. la brea ave.\"     \"los angeles\"      \"american\"  \n",
      "5              \"2709 main st.\"    \"santa monica\"        \"french\"  \n",
      "6          \"6703 melrose ave.\"     \"los angeles\"   \"californian\"  \n",
      "7     \"8358 sunset blvd. west\"       \"hollywood\"      \"american\"  \n",
      "8        \"23725 w. malibu rd.\"          \"malibu\"   \"californian\"  \n",
      "9            \"9560 dayton way\"     \"los angeles\"      \"american\"  \n",
      "10    \"1972 n. hillhurst ave.\"     \"los angeles\"         \"asian\"  \n",
      "11   \"903 n. la cienega blvd.\"     \"los angeles\"        \"french\"  \n",
      "12         \"8284 melrose ave.\"     \"los angeles\"        \"french\"  \n",
      "13                   \"3rd st.\"     \"los angeles\"       \"italian\"  \n",
      "14   \"129 n. la cienega blvd.\"   \"beverly hills\"         \"asian\"  \n",
      "15   \"9001 santa monica blvd.\"     \"los angeles\"      \"american\"  \n",
      "16         \"5955 melrose ave.\"     \"los angeles\"   \"californian\"  \n",
      "17       \"1001 n. alameda st.\"     \"los angeles\"      \"american\"  \n",
      "18       \"12969 ventura blvd.\"     \"los angeles\"        \"french\"  \n",
      "19          \"617 s. olive st.\"     \"los angeles\"       \"italian\"  \n"
     ]
    }
   ],
   "source": [
    "# Concatenating the dataframes across column: df1 and df3\n",
    "import pandas as pd\n",
    "df_1 = pd.read_csv('https://query.data.world/s/vv3snq28bp0TJq2ggCdxGOghEQKPZo')\n",
    "df_2 = pd.read_csv('https://query.data.world/s/9wVKjNT0yiRc3YbVJaiI8a6HGl2d74')\n",
    "df_3 = df_1.merge(df_2,on='unique_id',how='inner')\n",
    "print(df_3.head(20))\n"
   ]
  },
  {
   "cell_type": "code",
   "execution_count": 4,
   "metadata": {},
   "outputs": [
    {
     "data": {
      "text/html": [
       "<div>\n",
       "<style scoped>\n",
       "    .dataframe tbody tr th:only-of-type {\n",
       "        vertical-align: middle;\n",
       "    }\n",
       "\n",
       "    .dataframe tbody tr th {\n",
       "        vertical-align: top;\n",
       "    }\n",
       "\n",
       "    .dataframe thead th {\n",
       "        text-align: right;\n",
       "    }\n",
       "</style>\n",
       "<table border=\"1\" class=\"dataframe\">\n",
       "  <thead>\n",
       "    <tr style=\"text-align: right;\">\n",
       "      <th></th>\n",
       "      <th>name_2</th>\n",
       "      <th>address_2</th>\n",
       "      <th>city_2</th>\n",
       "      <th>cuisine_2</th>\n",
       "      <th>unique_id</th>\n",
       "      <th>name</th>\n",
       "      <th>address</th>\n",
       "      <th>city</th>\n",
       "      <th>cuisine</th>\n",
       "      <th>unique_id</th>\n",
       "    </tr>\n",
       "  </thead>\n",
       "  <tbody>\n",
       "    <tr>\n",
       "      <th>0</th>\n",
       "      <td>arnie morton's of chicago</td>\n",
       "      <td>\"435 s. la cienega blv.\"</td>\n",
       "      <td>\"los angeles\"</td>\n",
       "      <td>\"american\"</td>\n",
       "      <td>'0'</td>\n",
       "      <td>arnie morton's of chicago</td>\n",
       "      <td>\"435 s. la cienega blvd.\"</td>\n",
       "      <td>\"los angeles\"</td>\n",
       "      <td>\"steakhouses\"</td>\n",
       "      <td>'0'</td>\n",
       "    </tr>\n",
       "    <tr>\n",
       "      <th>1</th>\n",
       "      <td>art's delicatessen</td>\n",
       "      <td>\"12224 ventura blvd.\"</td>\n",
       "      <td>\"studio city\"</td>\n",
       "      <td>\"american\"</td>\n",
       "      <td>'1'</td>\n",
       "      <td>art's deli</td>\n",
       "      <td>\"12224 ventura blvd.\"</td>\n",
       "      <td>\"studio city\"</td>\n",
       "      <td>\"delis\"</td>\n",
       "      <td>'1'</td>\n",
       "    </tr>\n",
       "    <tr>\n",
       "      <th>2</th>\n",
       "      <td>hotel bel-air</td>\n",
       "      <td>\"701 stone canyon rd.\"</td>\n",
       "      <td>\"bel air\"</td>\n",
       "      <td>\"californian\"</td>\n",
       "      <td>'2'</td>\n",
       "      <td>bel-air hotel</td>\n",
       "      <td>\"701 stone canyon rd.\"</td>\n",
       "      <td>\"bel air\"</td>\n",
       "      <td>\"californian\"</td>\n",
       "      <td>'2'</td>\n",
       "    </tr>\n",
       "    <tr>\n",
       "      <th>3</th>\n",
       "      <td>cafe bizou</td>\n",
       "      <td>\"14016 ventura blvd.\"</td>\n",
       "      <td>\"sherman oaks\"</td>\n",
       "      <td>\"french\"</td>\n",
       "      <td>'3'</td>\n",
       "      <td>cafe bizou</td>\n",
       "      <td>\"14016 ventura blvd.\"</td>\n",
       "      <td>\"sherman oaks\"</td>\n",
       "      <td>\"french bistro\"</td>\n",
       "      <td>'3'</td>\n",
       "    </tr>\n",
       "    <tr>\n",
       "      <th>4</th>\n",
       "      <td>campanile</td>\n",
       "      <td>\"624 s. la brea ave.\"</td>\n",
       "      <td>\"los angeles\"</td>\n",
       "      <td>\"american\"</td>\n",
       "      <td>'4'</td>\n",
       "      <td>campanile</td>\n",
       "      <td>\"624 s. la brea ave.\"</td>\n",
       "      <td>\"los angeles\"</td>\n",
       "      <td>\"californian\"</td>\n",
       "      <td>'4'</td>\n",
       "    </tr>\n",
       "  </tbody>\n",
       "</table>\n",
       "</div>"
      ],
      "text/plain": [
       "                      name_2                  address_2           city_2  \\\n",
       "0  arnie morton's of chicago   \"435 s. la cienega blv.\"    \"los angeles\"   \n",
       "1         art's delicatessen      \"12224 ventura blvd.\"    \"studio city\"   \n",
       "2              hotel bel-air     \"701 stone canyon rd.\"        \"bel air\"   \n",
       "3                 cafe bizou      \"14016 ventura blvd.\"   \"sherman oaks\"   \n",
       "4                  campanile      \"624 s. la brea ave.\"    \"los angeles\"   \n",
       "\n",
       "        cuisine_2 unique_id                       name  \\\n",
       "0      \"american\"       '0'  arnie morton's of chicago   \n",
       "1      \"american\"       '1'                 art's deli   \n",
       "2   \"californian\"       '2'              bel-air hotel   \n",
       "3        \"french\"       '3'                 cafe bizou   \n",
       "4      \"american\"       '4'                  campanile   \n",
       "\n",
       "                      address             city           cuisine unique_id  \n",
       "0   \"435 s. la cienega blvd.\"    \"los angeles\"     \"steakhouses\"       '0'  \n",
       "1       \"12224 ventura blvd.\"    \"studio city\"           \"delis\"       '1'  \n",
       "2      \"701 stone canyon rd.\"        \"bel air\"     \"californian\"       '2'  \n",
       "3       \"14016 ventura blvd.\"   \"sherman oaks\"   \"french bistro\"       '3'  \n",
       "4       \"624 s. la brea ave.\"    \"los angeles\"     \"californian\"       '4'  "
      ]
     },
     "execution_count": 4,
     "metadata": {},
     "output_type": "execute_result"
    }
   ],
   "source": [
    "df_1 = pd.read_csv('https://query.data.world/s/vv3snq28bp0TJq2ggCdxGOghEQKPZo')\n",
    "df_2 = pd.read_csv('https://query.data.world/s/9wVKjNT0yiRc3YbVJaiI8a6HGl2d74')\n",
    "df_3 = pd.concat([df_2,df_1],axis=1)\n",
    "df_3.head()"
   ]
  },
  {
   "cell_type": "code",
   "execution_count": 11,
   "metadata": {},
   "outputs": [
    {
     "data": {
      "text/html": [
       "<div>\n",
       "<style scoped>\n",
       "    .dataframe tbody tr th:only-of-type {\n",
       "        vertical-align: middle;\n",
       "    }\n",
       "\n",
       "    .dataframe tbody tr th {\n",
       "        vertical-align: top;\n",
       "    }\n",
       "\n",
       "    .dataframe thead th {\n",
       "        text-align: right;\n",
       "    }\n",
       "</style>\n",
       "<table border=\"1\" class=\"dataframe\">\n",
       "  <thead>\n",
       "    <tr style=\"text-align: right;\">\n",
       "      <th></th>\n",
       "      <th>Country</th>\n",
       "      <th>Medals</th>\n",
       "      <th>Country</th>\n",
       "      <th>Medals</th>\n",
       "      <th>Country</th>\n",
       "      <th>Medals</th>\n",
       "    </tr>\n",
       "  </thead>\n",
       "  <tbody>\n",
       "    <tr>\n",
       "      <th>0</th>\n",
       "      <td>USA</td>\n",
       "      <td>15</td>\n",
       "      <td>USA</td>\n",
       "      <td>29</td>\n",
       "      <td>France</td>\n",
       "      <td>40</td>\n",
       "    </tr>\n",
       "    <tr>\n",
       "      <th>1</th>\n",
       "      <td>France</td>\n",
       "      <td>13</td>\n",
       "      <td>Germany</td>\n",
       "      <td>20</td>\n",
       "      <td>USA</td>\n",
       "      <td>28</td>\n",
       "    </tr>\n",
       "    <tr>\n",
       "      <th>2</th>\n",
       "      <td>Russia</td>\n",
       "      <td>9</td>\n",
       "      <td>Russia</td>\n",
       "      <td>16</td>\n",
       "      <td>UK</td>\n",
       "      <td>27</td>\n",
       "    </tr>\n",
       "  </tbody>\n",
       "</table>\n",
       "</div>"
      ],
      "text/plain": [
       "  Country  Medals  Country  Medals Country  Medals\n",
       "0     USA      15      USA      29  France      40\n",
       "1  France      13  Germany      20     USA      28\n",
       "2  Russia       9   Russia      16      UK      27"
      ]
     },
     "execution_count": 11,
     "metadata": {},
     "output_type": "execute_result"
    }
   ],
   "source": [
    "gold = pd.DataFrame({'Country': ['USA', 'France', 'Russia'],\n",
    "                         'Medals': [15, 13, 9]}\n",
    "                    )\n",
    "silver = pd.DataFrame({'Country': ['USA', 'Germany', 'Russia'],\n",
    "                        'Medals': [29, 20, 16]}\n",
    "                    )\n",
    "bronze = pd.DataFrame({'Country': ['France', 'USA', 'UK'],\n",
    "                        'Medals': [40, 28, 27]}\n",
    "                    )\n",
    "                    \n",
    "df_final = pd.concat([gold,silver,bronze],axis=1)\n",
    "df_final.head() "
   ]
  },
  {
   "cell_type": "code",
   "execution_count": null,
   "metadata": {},
   "outputs": [],
   "source": []
  }
 ],
 "metadata": {
  "kernelspec": {
   "display_name": "Python 3",
   "language": "python",
   "name": "python3"
  },
  "language_info": {
   "codemirror_mode": {
    "name": "ipython",
    "version": 3
   },
   "file_extension": ".py",
   "mimetype": "text/x-python",
   "name": "python",
   "nbconvert_exporter": "python",
   "pygments_lexer": "ipython3",
   "version": "3.7.6"
  }
 },
 "nbformat": 4,
 "nbformat_minor": 2
}
